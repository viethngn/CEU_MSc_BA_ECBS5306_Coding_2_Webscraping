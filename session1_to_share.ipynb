{
 "cells": [
  {
   "cell_type": "markdown",
   "metadata": {
    "colab_type": "text",
    "id": "view-in-github"
   },
   "source": [
    "<a href=\"https://colab.research.google.com/github/misrori/scraping/blob/main/session1_to_share.ipynb\" target=\"_parent\"><img src=\"https://colab.research.google.com/assets/colab-badge.svg\" alt=\"Open In Colab\"/></a>"
   ]
  },
  {
   "cell_type": "markdown",
   "metadata": {
    "id": "FJ1AzQyCcKbq"
   },
   "source": [
    "# Session 1 HTML Structure, HTML Parsing\n",
    "\n",
    "https://www.youtube.com/watch?v=salY_Sm6mv4"
   ]
  },
  {
   "cell_type": "markdown",
   "metadata": {
    "id": "WnvGvc4Tb4kx"
   },
   "source": [
    "Sample HTML\n",
    "\n",
    "```html\n",
    "<!DOCTYPE html>\n",
    "<html>\n",
    "<head>\n",
    "    <title>Sample Page</title>\n",
    "</head>\n",
    "<body>\n",
    "    <h1 id=\"main-heading\">Welcome to Web Scraping with Python</h1>\n",
    "    <p class=\"intro\">This is a sample web page for demonstration.</p>\n",
    "    <div class=\"content\">\n",
    "        <p>This is a paragraph inside a div with class \"content\".</p>\n",
    "    </div>\n",
    "    <ul>\n",
    "    <ul>\n",
    "        <li>Item 1 - <a href=\"https://www.example1.com\">Example 1</a></li>\n",
    "        <li>Item 2 - <a href=\"https://www.example2.com\">Example 2</a></li>\n",
    "        <li>Item 3 - <a href=\"https://www.example3.com\">Example 3</a></li>\n",
    "    </ul>\n",
    "    </ul>\n",
    "    <table>\n",
    "        <tr>\n",
    "            <th>Name</th>\n",
    "            <th>Age</th>\n",
    "        </tr>\n",
    "        <tr>\n",
    "            <td>John</td>\n",
    "            <td>30</td>\n",
    "        </tr>\n",
    "        <tr>\n",
    "            <td>Alice</td>\n",
    "            <td>25</td>\n",
    "        </tr>\n",
    "    </table>\n",
    "</body>\n",
    "</html>\n",
    "```"
   ]
  },
  {
   "cell_type": "markdown",
   "metadata": {
    "id": "k_DMIiq4cG5E"
   },
   "source": [
    "<!DOCTYPE html>\n",
    "<html>\n",
    "<head>\n",
    "    <title>Sample Page</title>\n",
    "</head>\n",
    "<body>\n",
    "    <h1 id=\"main-heading\">Welcome to Web Scraping with Python</h1>\n",
    "    <p class=\"intro\">This is a sample web page for demonstration.</p>\n",
    "    <div class=\"content\">\n",
    "        <p>This is a paragraph inside a div with class \"content\".</p>\n",
    "    </div>\n",
    "    <ul>\n",
    "    <ul>\n",
    "        <li>Item 1 - <a href=\"https://www.example1.com\">Example 1</a></li>\n",
    "        <li>Item 2 - <a href=\"https://www.example2.com\">Example 2</a></li>\n",
    "        <li>Item 3 - <a href=\"https://www.example3.com\">Example 3</a></li>\n",
    "    </ul>\n",
    "    </ul>\n",
    "    <table>\n",
    "        <tr>\n",
    "            <th>Name</th>\n",
    "            <th>Age</th>\n",
    "        </tr>\n",
    "        <tr>\n",
    "            <td>John</td>\n",
    "            <td>30</td>\n",
    "        </tr>\n",
    "        <tr>\n",
    "            <td>Alice</td>\n",
    "            <td>25</td>\n",
    "        </tr>\n",
    "    </table>\n",
    "</body>\n",
    "</html>\n"
   ]
  },
  {
   "cell_type": "markdown",
   "metadata": {
    "id": "9Fn2HG9xIAGA"
   },
   "source": [
    "Console, jquery\n",
    "\n",
    "\n",
    "```var pageTitleElements = document.querySelectorAll(\".page-title\");\n",
    "\n",
    "if (pageTitleElements.length > 0) {\n",
    "    pageTitleElements.forEach(function(element) {\n",
    "        console.log(element.textContent);\n",
    "    });\n",
    "} else {\n",
    "    console.log(\"No elements with the class 'page-title' found.\");\n",
    "}\n",
    "```"
   ]
  },
  {
   "cell_type": "markdown",
   "metadata": {
    "id": "AcYYoKjieX32"
   },
   "source": [
    "Read HTML from string\n",
    "\n"
   ]
  },
  {
   "cell_type": "code",
   "execution_count": 1,
   "metadata": {
    "colab": {
     "base_uri": "https://localhost:8080/"
    },
    "id": "5uih8TVheXXd",
    "outputId": "3587bf02-be54-4cfb-d483-f9569ea69ea7",
    "tags": []
   },
   "outputs": [
    {
     "data": {
      "text/plain": [
       "\n",
       "<!DOCTYPE html>\n",
       "\n",
       "<html>\n",
       "<head>\n",
       "<title>Sample Page</title>\n",
       "</head>\n",
       "<body>\n",
       "<h1 id=\"main-heading\">Welcome to Web Scraping with Python</h1>\n",
       "<p class=\"intro\">This is a sample web page for demonstration.</p>\n",
       "<div class=\"content\">\n",
       "<p>This is a paragraph inside a div with class \"content\".</p>\n",
       "</div>\n",
       "<ul>\n",
       "<ul>\n",
       "<li>Item 1 - <a href=\"https://www.example1.com\">Example 1</a></li>\n",
       "<li>Item 2 - <a href=\"https://www.example2.com\">Example 2</a></li>\n",
       "<li>Item 3 - <a href=\"https://www.example3.com\">Example 3</a></li>\n",
       "</ul>\n",
       "</ul>\n",
       "<table>\n",
       "<tr>\n",
       "<th>Name</th>\n",
       "<th>Age</th>\n",
       "</tr>\n",
       "<tr>\n",
       "<td>John</td>\n",
       "<td>30</td>\n",
       "</tr>\n",
       "<tr>\n",
       "<td>Alice</td>\n",
       "<td>25</td>\n",
       "</tr>\n",
       "</table>\n",
       "</body>\n",
       "</html>"
      ]
     },
     "execution_count": 1,
     "metadata": {},
     "output_type": "execute_result"
    }
   ],
   "source": [
    "import requests\n",
    "from bs4 import BeautifulSoup\n",
    "\n",
    "html_content = '''\n",
    "<!DOCTYPE html>\n",
    "<html>\n",
    "<head>\n",
    "    <title>Sample Page</title>\n",
    "</head>\n",
    "<body>\n",
    "    <h1 id=\"main-heading\">Welcome to Web Scraping with Python</h1>\n",
    "    <p class=\"intro\">This is a sample web page for demonstration.</p>\n",
    "    <div class=\"content\">\n",
    "        <p>This is a paragraph inside a div with class \"content\".</p>\n",
    "    </div>\n",
    "    <ul>\n",
    "    <ul>\n",
    "        <li>Item 1 - <a href=\"https://www.example1.com\">Example 1</a></li>\n",
    "        <li>Item 2 - <a href=\"https://www.example2.com\">Example 2</a></li>\n",
    "        <li>Item 3 - <a href=\"https://www.example3.com\">Example 3</a></li>\n",
    "    </ul>\n",
    "    </ul>\n",
    "    <table>\n",
    "        <tr>\n",
    "            <th>Name</th>\n",
    "            <th>Age</th>\n",
    "        </tr>\n",
    "        <tr>\n",
    "            <td>John</td>\n",
    "            <td>30</td>\n",
    "        </tr>\n",
    "        <tr>\n",
    "            <td>Alice</td>\n",
    "            <td>25</td>\n",
    "        </tr>\n",
    "    </table>\n",
    "</body>\n",
    "</html>\n",
    "'''\n",
    "\n",
    "# Create a BeautifulSoup object\n",
    "soup = BeautifulSoup(html_content, 'html.parser')\n",
    "soup\n"
   ]
  },
  {
   "cell_type": "markdown",
   "metadata": {
    "id": "KWdpO4ffmDe1"
   },
   "source": [
    "# Read HTML from local file\n",
    "```python\n",
    "# Open and read the HTML file\n",
    "with open('your_file.html', 'r') as file:\n",
    "    html = file.read()\n",
    "soup = BeautifulSoup(html, 'html.parser')\n",
    "soup\n",
    "```"
   ]
  },
  {
   "cell_type": "code",
   "execution_count": 2,
   "metadata": {
    "id": "n6UjTE_scniP",
    "tags": []
   },
   "outputs": [
    {
     "data": {
      "text/plain": [
       "'https://raw.githubusercontent.com/misrori/rdata/main/sample.html'"
      ]
     },
     "execution_count": 2,
     "metadata": {},
     "output_type": "execute_result"
    }
   ],
   "source": [
    "# Read site from git:\n",
    "'https://raw.githubusercontent.com/misrori/rdata/main/sample.html'"
   ]
  },
  {
   "cell_type": "code",
   "execution_count": 4,
   "metadata": {
    "id": "tLFMipmZcqsy",
    "tags": []
   },
   "outputs": [],
   "source": [
    "import requests\n",
    "from bs4 import BeautifulSoup\n",
    "\n",
    "page = requests.get('https://raw.githubusercontent.com/misrori/rdata/main/sample.html')"
   ]
  },
  {
   "cell_type": "code",
   "execution_count": 5,
   "metadata": {
    "tags": []
   },
   "outputs": [
    {
     "data": {
      "text/plain": [
       "200"
      ]
     },
     "execution_count": 5,
     "metadata": {},
     "output_type": "execute_result"
    }
   ],
   "source": [
    "# get status code\n",
    "page.status_code"
   ]
  },
  {
   "cell_type": "code",
   "execution_count": 7,
   "metadata": {
    "tags": []
   },
   "outputs": [
    {
     "data": {
      "text/plain": [
       "b'<!DOCTYPE html>\\n<html>\\n<head>\\n    <title>Sample Page</title>\\n</head>\\n<body>\\n    <h1 id=\"main-heading\">Welcome to Web Scraping with Python</h1>\\n    <p class=\"intro\">This is a sample web page for demonstration.</p>\\n    <div class=\"content\">\\n        <p>This is a paragraph inside a div with class \"content\".</p>\\n    </div>\\n    <ul>\\n        <li>Item 1 - <a href=\"https://www.example1.com\">Example 1</a></li>\\n        <li>Item 2 - <a href=\"https://www.example2.com\">Example 2</a></li>\\n        <li>Item 3 - <a href=\"https://www.example3.com\">Example 3</a></li>\\n    </ul>\\n    <table>\\n        <tr>\\n            <th>Name</th>\\n            <th>Age</th>\\n        </tr>\\n        <tr>\\n            <td>John</td>\\n            <td>30</td>\\n        </tr>\\n        <tr>\\n            <td>Alice</td>\\n            <td>25</td>\\n        </tr>\\n    </table>\\n</body>\\n</html>\\n'"
      ]
     },
     "execution_count": 7,
     "metadata": {},
     "output_type": "execute_result"
    }
   ],
   "source": [
    "page.content"
   ]
  },
  {
   "cell_type": "code",
   "execution_count": 11,
   "metadata": {
    "tags": []
   },
   "outputs": [
    {
     "name": "stdout",
     "output_type": "stream",
     "text": [
      "<!DOCTYPE html>\n",
      "\n",
      "<html>\n",
      "<head>\n",
      "<title>Sample Page</title>\n",
      "</head>\n",
      "<body>\n",
      "<h1 id=\"main-heading\">Welcome to Web Scraping with Python</h1>\n",
      "<p class=\"intro\">This is a sample web page for demonstration.</p>\n",
      "<div class=\"content\">\n",
      "<p>This is a paragraph inside a div with class \"content\".</p>\n",
      "</div>\n",
      "<ul>\n",
      "<li>Item 1 - <a href=\"https://www.example1.com\">Example 1</a></li>\n",
      "<li>Item 2 - <a href=\"https://www.example2.com\">Example 2</a></li>\n",
      "<li>Item 3 - <a href=\"https://www.example3.com\">Example 3</a></li>\n",
      "</ul>\n",
      "<table>\n",
      "<tr>\n",
      "<th>Name</th>\n",
      "<th>Age</th>\n",
      "</tr>\n",
      "<tr>\n",
      "<td>John</td>\n",
      "<td>30</td>\n",
      "</tr>\n",
      "<tr>\n",
      "<td>Alice</td>\n",
      "<td>25</td>\n",
      "</tr>\n",
      "</table>\n",
      "</body>\n",
      "</html>\n",
      "\n"
     ]
    }
   ],
   "source": [
    "# parse page content into html text\n",
    "page_content = BeautifulSoup(page.text, 'html.parser')\n",
    "print(page_content)"
   ]
  },
  {
   "cell_type": "code",
   "execution_count": 12,
   "metadata": {
    "tags": []
   },
   "outputs": [
    {
     "data": {
      "text/plain": [
       "'Welcome to Web Scraping with Python'"
      ]
     },
     "execution_count": 12,
     "metadata": {},
     "output_type": "execute_result"
    }
   ],
   "source": [
    "page_content.find(id = 'main-heading').text"
   ]
  },
  {
   "cell_type": "code",
   "execution_count": 14,
   "metadata": {
    "tags": []
   },
   "outputs": [
    {
     "data": {
      "text/plain": [
       "'This is a sample web page for demonstration.'"
      ]
     },
     "execution_count": 14,
     "metadata": {},
     "output_type": "execute_result"
    }
   ],
   "source": [
    "page_content.find(class_ = 'intro').text"
   ]
  },
  {
   "cell_type": "code",
   "execution_count": 20,
   "metadata": {
    "tags": []
   },
   "outputs": [],
   "source": [
    "# get all elements type p (paragraph in html)\n",
    "page_paragraphs = page_content.findAll('p')"
   ]
  },
  {
   "cell_type": "code",
   "execution_count": 21,
   "metadata": {
    "tags": []
   },
   "outputs": [
    {
     "name": "stdout",
     "output_type": "stream",
     "text": [
      "This is a sample web page for demonstration.\n",
      "This is a paragraph inside a div with class \"content\".\n"
     ]
    }
   ],
   "source": [
    "for p in page_paragraphs:\n",
    "    print(p.text)"
   ]
  },
  {
   "cell_type": "code",
   "execution_count": 26,
   "metadata": {
    "tags": []
   },
   "outputs": [
    {
     "data": {
      "text/plain": [
       "['This is a sample web page for demonstration.',\n",
       " 'This is a paragraph inside a div with class \"content\".']"
      ]
     },
     "execution_count": 26,
     "metadata": {},
     "output_type": "execute_result"
    }
   ],
   "source": [
    "[p.text for p in page_paragraphs]"
   ]
  },
  {
   "cell_type": "code",
   "execution_count": 40,
   "metadata": {
    "tags": []
   },
   "outputs": [
    {
     "data": {
      "text/plain": [
       "['Item 1 - Example 1', 'Item 2 - Example 2', 'Item 3 - Example 3']"
      ]
     },
     "execution_count": 40,
     "metadata": {},
     "output_type": "execute_result"
    }
   ],
   "source": [
    "[item.text for item in page_content.findAll('li')]"
   ]
  },
  {
   "cell_type": "code",
   "execution_count": 48,
   "metadata": {
    "tags": []
   },
   "outputs": [
    {
     "data": {
      "text/plain": [
       "['https://www.example1.com',\n",
       " 'https://www.example2.com',\n",
       " 'https://www.example3.com']"
      ]
     },
     "execution_count": 48,
     "metadata": {},
     "output_type": "execute_result"
    }
   ],
   "source": [
    "[item['href'] for item in page_content.findAll('a')]"
   ]
  },
  {
   "cell_type": "code",
   "execution_count": 50,
   "metadata": {
    "tags": []
   },
   "outputs": [
    {
     "data": {
      "text/plain": [
       "['https://www.example1.com',\n",
       " 'https://www.example2.com',\n",
       " 'https://www.example3.com']"
      ]
     },
     "execution_count": 50,
     "metadata": {},
     "output_type": "execute_result"
    }
   ],
   "source": [
    "[item.a['href'] for item in page_content.findAll('li')]"
   ]
  },
  {
   "cell_type": "markdown",
   "metadata": {
    "id": "5iqRmsDlETDa"
   },
   "source": [
    "#Task\n",
    "Scrape this site\n",
    "https://www.scrapethissite.com/pages/\n",
    "\n"
   ]
  },
  {
   "cell_type": "code",
   "execution_count": 52,
   "metadata": {
    "tags": []
   },
   "outputs": [
    {
     "name": "stdout",
     "output_type": "stream",
     "text": [
      "<!DOCTYPE html>\n",
      "\n",
      "<html lang=\"en\">\n",
      "<head>\n",
      "<meta charset=\"utf-8\"/>\n",
      "<title>Learn Web Scraping | Scrape This Site | A public sandbox for learning web scraping</title>\n",
      "<link href=\"/static/images/scraper-icon.png\" rel=\"icon\" type=\"image/png\"/>\n",
      "<meta content=\"width=device-width, initial-scale=1.0\" name=\"viewport\"/>\n",
      "<meta content=\"Here are some practice pages you can scrape.\" name=\"description\"/>\n",
      "<link crossorigin=\"anonymous\" href=\"https://maxcdn.bootstrapcdn.com/bootstrap/3.3.5/css/bootstrap.min.css\" integrity=\"sha256-MfvZlkHCEqatNoGiOXveE8FIwMzZg4W85qfrfIFBfYc= sha512-dTfge/zgoMYpP7QbHy4gWMEGsbsdZeCXz7irItjcC3sPUFtf0kuFbDz/ixG7ArTxmDjLXDmezHubeNikyKGVyQ==\" rel=\"stylesheet\"/>\n",
      "<link href=\"https://fonts.googleapis.com/css?family=Lato:400,700\" rel=\"stylesheet\" type=\"text/css\"/>\n",
      "<link href=\"/static/css/styles.css\" rel=\"stylesheet\" type=\"text/css\"/>\n",
      "</head>\n",
      "<body>\n",
      "<nav id=\"site-nav\">\n",
      "<div class=\"container\">\n",
      "<div class=\"col-md-12\">\n",
      "<ul class=\"nav nav-tabs\">\n",
      "<li id=\"nav-homepage\">\n",
      "<a class=\"nav-link hidden-sm hidden-xs\" href=\"/\">\n",
      "<img id=\"nav-logo\" src=\"/static/images/scraper-icon.png\"/>\n",
      "                                Scrape This Site\n",
      "                            </a>\n",
      "</li>\n",
      "<li id=\"nav-sandbox\">\n",
      "<a class=\"nav-link\" href=\"/pages/\">\n",
      "<i class=\"glyphicon glyphicon-console hidden-sm hidden-xs\"></i>\n",
      "                                Sandbox\n",
      "                            </a>\n",
      "</li>\n",
      "<li id=\"nav-lessons\">\n",
      "<a class=\"nav-link\" href=\"/lessons/\">\n",
      "<i class=\"glyphicon glyphicon-education hidden-sm hidden-xs\"></i>\n",
      "                                Lessons\n",
      "                            </a>\n",
      "</li>\n",
      "<li id=\"nav-faq\">\n",
      "<a class=\"nav-link\" href=\"/faq/\">\n",
      "<i class=\"glyphicon glyphicon-flag hidden-sm hidden-xs\"></i>\n",
      "                                FAQ\n",
      "                            </a>\n",
      "</li>\n",
      "<li class=\"pull-right\" id=\"nav-login\">\n",
      "<a class=\"nav-link\" href=\"/login/\">\n",
      "                                Login\n",
      "                            </a>\n",
      "</li>\n",
      "</ul>\n",
      "</div>\n",
      "</div>\n",
      "</nav>\n",
      "<script type=\"text/javascript\">\n",
      "            var path = document.location.pathname;\n",
      "            var tab = undefined;\n",
      "            if (path === \"/\"){\n",
      "                tab = document.querySelector(\"#nav-homepage\");\n",
      "            } else if (path.indexOf(\"/faq/\") === 0){\n",
      "                tab = document.querySelector(\"#nav-faq\");\n",
      "            } else if (path.indexOf(\"/lessons/\") === 0){\n",
      "                tab = document.querySelector(\"#nav-lessons\");\n",
      "            } else if (path.indexOf(\"/pages/\") === 0) {\n",
      "                tab = document.querySelector(\"#nav-sandbox\");\n",
      "            } else if (path.indexOf(\"/login/\") === 0) {\n",
      "                tab = document.querySelector(\"#nav-login\");\n",
      "            }\n",
      "            tab.classList.add(\"active\")\n",
      "        </script>\n",
      "<div id=\"pages\">\n",
      "<section>\n",
      "<div class=\"container\">\n",
      "<div class=\"row\">\n",
      "<div class=\"col-md-6 col-md-offset-3\">\n",
      "<h1>Web Scraping Sandbox</h1>\n",
      "<hr/>\n",
      "<div class=\"page\">\n",
      "<h3 class=\"page-title\">\n",
      "<a href=\"/pages/simple/\">Countries of the World: A Simple Example</a>\n",
      "</h3>\n",
      "<p class=\"lead session-desc\">\n",
      "                                A single page that lists information about all the countries in the world. Good for those just get started with web scraping.\n",
      "                            </p>\n",
      "<hr/>\n",
      "</div><!--.page-->\n",
      "<div class=\"page\">\n",
      "<h3 class=\"page-title\">\n",
      "<a href=\"/pages/forms/\">Hockey Teams: Forms, Searching and Pagination</a>\n",
      "</h3>\n",
      "<p class=\"lead session-desc\">\n",
      "                                Browse through a database of NHL team stats since 1990. Practice building a scraper that handles common website interface components.\n",
      "                            </p>\n",
      "<hr/>\n",
      "</div><!--.page-->\n",
      "<div class=\"page\">\n",
      "<h3 class=\"page-title\">\n",
      "<a href=\"/pages/ajax-javascript/\">Oscar Winning Films: AJAX and Javascript</a>\n",
      "</h3>\n",
      "<p class=\"lead session-desc\">\n",
      "                                Click through a bunch of great films. Learn how content is added to the page asynchronously with Javascript and how you can scrape it.\n",
      "                            </p>\n",
      "<hr/>\n",
      "</div><!--.page-->\n",
      "<div class=\"page\">\n",
      "<h3 class=\"page-title\">\n",
      "<a href=\"/pages/frames/\">Turtles All the Way Down: Frames &amp; iFrames</a>\n",
      "</h3>\n",
      "<p class=\"lead session-desc\">\n",
      "                                Some older sites might still use frames to break up thier pages. Modern ones might be using iFrames to expose data. Learn about turtles as you scrape content inside frames.\n",
      "                            </p>\n",
      "<hr/>\n",
      "</div><!--.page-->\n",
      "<div class=\"page\">\n",
      "<h3 class=\"page-title\">\n",
      "<a href=\"/pages/advanced/\">Advanced Topics: Real World Challenges You'll Encounter</a>\n",
      "</h3>\n",
      "<p class=\"lead session-desc\">\n",
      "                                Scraping real websites, you're likely run into a number of common gotchas. Get practice with spoofing headers, handling logins &amp; session cookies, finding CSRF tokens, and other common network errors.\n",
      "                            </p>\n",
      "<hr/>\n",
      "</div><!--.page-->\n",
      "</div><!--.col-->\n",
      "</div><!--.row-->\n",
      "</div><!--.container-->\n",
      "</section>\n",
      "</div>\n",
      "<section id=\"footer\">\n",
      "<div class=\"container\">\n",
      "<div class=\"row\">\n",
      "<div class=\"col-md-12 text-center text-muted\">\n",
      "                    Lessons and Videos © Hartley Brody 2023\n",
      "                </div><!--.col-->\n",
      "</div><!--.row-->\n",
      "</div><!--.container-->\n",
      "</section>\n",
      "</body>\n",
      "<script src=\"https://ajax.googleapis.com/ajax/libs/jquery/1.11.3/jquery.min.js\"></script>\n",
      "<script crossorigin=\"anonymous\" integrity=\"sha256-Sk3nkD6mLTMOF0EOpNtsIry+s1CsaqQC1rVLTAy+0yc= sha512-K1qjQ+NcF2TYO/eI3M6v8EiNYZfA95pQumfvcVrTHtwQVDG+aHRqLi/ETn2uB+1JqwYqVG3LIvdm9lj6imS/pQ==\" src=\"https://maxcdn.bootstrapcdn.com/bootstrap/3.3.5/js/bootstrap.min.js\"></script>\n",
      "<script src=\"https://cdnjs.cloudflare.com/ajax/libs/pnotify/2.1.0/pnotify.core.min.js\"></script>\n",
      "<link href=\"https://cdnjs.cloudflare.com/ajax/libs/pnotify/2.1.0/pnotify.core.min.css\" rel=\"stylesheet\" type=\"text/css\"/>\n",
      "<!-- pnotify messages -->\n",
      "<script type=\"text/javascript\">\n",
      "    \n",
      "    PNotify.prototype.options.styling = \"bootstrap3\";\n",
      "    $(function(){\n",
      "      \n",
      "    });\n",
      "    \n",
      "\n",
      "    $(function () {\n",
      "      $('[data-toggle=\"tooltip\"]').tooltip()\n",
      "    })\n",
      "  </script>\n",
      "<!-- golbal video controls -->\n",
      "<script type=\"text/javascript\">\n",
      "    $(\"video\").hover(function() {\n",
      "        $(this).prop(\"controls\", true);\n",
      "    }, function() {\n",
      "        $(this).prop(\"controls\", false);\n",
      "    });\n",
      "\n",
      "    $(\"video\").click(function() {\n",
      "        if( this.paused){\n",
      "            this.play();\n",
      "        }\n",
      "        else {\n",
      "            this.pause();\n",
      "        }\n",
      "    });\n",
      "    </script>\n",
      "<!-- insert google analytics here -->\n",
      "<script>\n",
      "    (function(i,s,o,g,r,a,m){i['GoogleAnalyticsObject']=r;i[r]=i[r]||function(){\n",
      "    (i[r].q=i[r].q||[]).push(arguments)},i[r].l=1*new Date();a=s.createElement(o),\n",
      "    m=s.getElementsByTagName(o)[0];a.async=1;a.src=g;m.parentNode.insertBefore(a,m)\n",
      "    })(window,document,'script','https://www.google-analytics.com/analytics.js','ga');\n",
      "\n",
      "    ga('create', 'UA-41551755-8', 'auto');\n",
      "    ga('send', 'pageview');\n",
      "  </script>\n",
      "<!-- Facebook Pixel Code -->\n",
      "<script>\n",
      "  !function(f,b,e,v,n,t,s){if(f.fbq)return;n=f.fbq=function(){n.callMethod?\n",
      "  n.callMethod.apply(n,arguments):n.queue.push(arguments)};if(!f._fbq)f._fbq=n;\n",
      "  n.push=n;n.loaded=!0;n.version='2.0';n.queue=[];t=b.createElement(e);t.async=!0;\n",
      "  t.src=v;s=b.getElementsByTagName(e)[0];s.parentNode.insertBefore(t,s)}(window,\n",
      "  document,'script','https://connect.facebook.net/en_US/fbevents.js');\n",
      "\n",
      "  fbq('init', '764287443701341');\n",
      "  fbq('track', \"PageView\");</script>\n",
      "<noscript><img height=\"1\" src=\"https://www.facebook.com/tr?id=764287443701341&amp;ev=PageView&amp;noscript=1\" style=\"display:none\" width=\"1\"/></noscript>\n",
      "<!-- End Facebook Pixel Code -->\n",
      "<!-- Google Code for Remarketing Tag -->\n",
      "<script type=\"text/javascript\">\n",
      "    /* <![CDATA[ */\n",
      "    var google_conversion_id = 950945448;\n",
      "    var google_custom_params = window.google_tag_params;\n",
      "    var google_remarketing_only = true;\n",
      "    /* ]]> */\n",
      "    </script>\n",
      "<script src=\"//www.googleadservices.com/pagead/conversion.js\" type=\"text/javascript\">\n",
      "</script>\n",
      "<noscript>\n",
      "<div style=\"display:inline;\">\n",
      "<img alt=\"\" height=\"1\" src=\"//googleads.g.doubleclick.net/pagead/viewthroughconversion/950945448/?guid=ON&amp;script=0\" style=\"border-style:none;\" width=\"1\"/>\n",
      "</div>\n",
      "</noscript>\n",
      "<!-- Global site tag (gtag.js) - Google AdWords: 950945448 -->\n",
      "<script async=\"\" src=\"https://www.googletagmanager.com/gtag/js?id=AW-950945448\"></script>\n",
      "<script>\n",
      "   window.dataLayer = window.dataLayer || [];\n",
      "   function gtag(){dataLayer.push(arguments);}\n",
      "   gtag('js', new Date());\n",
      "\n",
      "   gtag('config', 'AW-950945448');\n",
      "  </script>\n",
      "</html>\n"
     ]
    }
   ],
   "source": [
    "page = requests.get('https://www.scrapethissite.com/pages/')\n",
    "\n",
    "page_content = BeautifulSoup(page.text, 'html.parser')\n",
    "print(page_content)"
   ]
  },
  {
   "cell_type": "code",
   "execution_count": 56,
   "metadata": {
    "tags": []
   },
   "outputs": [
    {
     "data": {
      "text/plain": [
       "['Countries of the World: A Simple Example',\n",
       " 'Hockey Teams: Forms, Searching and Pagination',\n",
       " 'Oscar Winning Films: AJAX and Javascript',\n",
       " 'Turtles All the Way Down: Frames & iFrames',\n",
       " \"Advanced Topics: Real World Challenges You'll Encounter\"]"
      ]
     },
     "execution_count": 56,
     "metadata": {},
     "output_type": "execute_result"
    }
   ],
   "source": [
    "titles = [title.text.strip() for title in page_content.findAll(class_ = 'page-title')]\n",
    "titles"
   ]
  },
  {
   "cell_type": "code",
   "execution_count": 75,
   "metadata": {
    "tags": []
   },
   "outputs": [
    {
     "data": {
      "text/plain": [
       "['https://www.scrapethissite.com/pages/simple/',\n",
       " 'https://www.scrapethissite.com/pages/forms/',\n",
       " 'https://www.scrapethissite.com/pages/ajax-javascript/',\n",
       " 'https://www.scrapethissite.com/pages/frames/',\n",
       " 'https://www.scrapethissite.com/pages/advanced/']"
      ]
     },
     "execution_count": 75,
     "metadata": {},
     "output_type": "execute_result"
    }
   ],
   "source": [
    "links = ['https://www.scrapethissite.com' + item.find('a')['href'] for item in page_content.findAll(class_ = 'page-title')]\n",
    "links"
   ]
  },
  {
   "cell_type": "code",
   "execution_count": 79,
   "metadata": {
    "tags": []
   },
   "outputs": [
    {
     "data": {
      "text/plain": [
       "['A single page that lists information about all the countries in the world. Good for those just get started with web scraping.',\n",
       " 'Browse through a database of NHL team stats since 1990. Practice building a scraper that handles common website interface components.',\n",
       " 'Click through a bunch of great films. Learn how content is added to the page asynchronously with Javascript and how you can scrape it.',\n",
       " 'Some older sites might still use frames to break up thier pages. Modern ones might be using iFrames to expose data. Learn about turtles as you scrape content inside frames.',\n",
       " \"Scraping real websites, you're likely run into a number of common gotchas. Get practice with spoofing headers, handling logins & session cookies, finding CSRF tokens, and other common network errors.\"]"
      ]
     },
     "execution_count": 79,
     "metadata": {},
     "output_type": "execute_result"
    }
   ],
   "source": [
    "summary = [item.text.strip() for item in page_content.findAll(class_ = 'lead')]\n",
    "summary"
   ]
  },
  {
   "cell_type": "code",
   "execution_count": 80,
   "metadata": {
    "tags": []
   },
   "outputs": [],
   "source": [
    "import pandas as pd"
   ]
  },
  {
   "cell_type": "code",
   "execution_count": 81,
   "metadata": {
    "colab": {
     "base_uri": "https://localhost:8080/",
     "height": 206
    },
    "id": "fo2e4u-0BGrw",
    "outputId": "86a2c3d9-658d-4bbc-aec4-ab80c9e73aeb",
    "tags": []
   },
   "outputs": [
    {
     "data": {
      "text/html": [
       "<div>\n",
       "<style scoped>\n",
       "    .dataframe tbody tr th:only-of-type {\n",
       "        vertical-align: middle;\n",
       "    }\n",
       "\n",
       "    .dataframe tbody tr th {\n",
       "        vertical-align: top;\n",
       "    }\n",
       "\n",
       "    .dataframe thead th {\n",
       "        text-align: right;\n",
       "    }\n",
       "</style>\n",
       "<table border=\"1\" class=\"dataframe\">\n",
       "  <thead>\n",
       "    <tr style=\"text-align: right;\">\n",
       "      <th></th>\n",
       "      <th>title</th>\n",
       "      <th>link</th>\n",
       "      <th>summary</th>\n",
       "    </tr>\n",
       "  </thead>\n",
       "  <tbody>\n",
       "    <tr>\n",
       "      <th>0</th>\n",
       "      <td>Countries of the World: A Simple Example</td>\n",
       "      <td>https://www.scrapethissite.com/pages/simple/</td>\n",
       "      <td>A single page that lists information about all...</td>\n",
       "    </tr>\n",
       "    <tr>\n",
       "      <th>1</th>\n",
       "      <td>Hockey Teams: Forms, Searching and Pagination</td>\n",
       "      <td>https://www.scrapethissite.com/pages/forms/</td>\n",
       "      <td>Browse through a database of NHL team stats si...</td>\n",
       "    </tr>\n",
       "    <tr>\n",
       "      <th>2</th>\n",
       "      <td>Oscar Winning Films: AJAX and Javascript</td>\n",
       "      <td>https://www.scrapethissite.com/pages/ajax-java...</td>\n",
       "      <td>Click through a bunch of great films. Learn ho...</td>\n",
       "    </tr>\n",
       "    <tr>\n",
       "      <th>3</th>\n",
       "      <td>Turtles All the Way Down: Frames &amp; iFrames</td>\n",
       "      <td>https://www.scrapethissite.com/pages/frames/</td>\n",
       "      <td>Some older sites might still use frames to bre...</td>\n",
       "    </tr>\n",
       "    <tr>\n",
       "      <th>4</th>\n",
       "      <td>Advanced Topics: Real World Challenges You'll ...</td>\n",
       "      <td>https://www.scrapethissite.com/pages/advanced/</td>\n",
       "      <td>Scraping real websites, you're likely run into...</td>\n",
       "    </tr>\n",
       "  </tbody>\n",
       "</table>\n",
       "</div>"
      ],
      "text/plain": [
       "                                               title  \\\n",
       "0           Countries of the World: A Simple Example   \n",
       "1      Hockey Teams: Forms, Searching and Pagination   \n",
       "2           Oscar Winning Films: AJAX and Javascript   \n",
       "3         Turtles All the Way Down: Frames & iFrames   \n",
       "4  Advanced Topics: Real World Challenges You'll ...   \n",
       "\n",
       "                                                link  \\\n",
       "0       https://www.scrapethissite.com/pages/simple/   \n",
       "1        https://www.scrapethissite.com/pages/forms/   \n",
       "2  https://www.scrapethissite.com/pages/ajax-java...   \n",
       "3       https://www.scrapethissite.com/pages/frames/   \n",
       "4     https://www.scrapethissite.com/pages/advanced/   \n",
       "\n",
       "                                             summary  \n",
       "0  A single page that lists information about all...  \n",
       "1  Browse through a database of NHL team stats si...  \n",
       "2  Click through a bunch of great films. Learn ho...  \n",
       "3  Some older sites might still use frames to bre...  \n",
       "4  Scraping real websites, you're likely run into...  "
      ]
     },
     "execution_count": 81,
     "metadata": {},
     "output_type": "execute_result"
    }
   ],
   "source": [
    "pd.DataFrame({'title': titles, 'link':links, 'summary':summary})"
   ]
  },
  {
   "cell_type": "markdown",
   "metadata": {
    "id": "ipyzqSV0DqJs"
   },
   "source": [
    "## Scrape This Site\n",
    "https://www.scrapethissite.com/pages/"
   ]
  },
  {
   "cell_type": "code",
   "execution_count": null,
   "metadata": {},
   "outputs": [],
   "source": []
  }
 ],
 "metadata": {
  "colab": {
   "authorship_tag": "ABX9TyPbGz5FAKv5Rw73McyJDhug",
   "include_colab_link": true,
   "provenance": []
  },
  "kernelspec": {
   "display_name": "Python 3 (ipykernel)",
   "language": "python",
   "name": "python3"
  },
  "language_info": {
   "codemirror_mode": {
    "name": "ipython",
    "version": 3
   },
   "file_extension": ".py",
   "mimetype": "text/x-python",
   "name": "python",
   "nbconvert_exporter": "python",
   "pygments_lexer": "ipython3",
   "version": "3.11.4"
  }
 },
 "nbformat": 4,
 "nbformat_minor": 4
}
